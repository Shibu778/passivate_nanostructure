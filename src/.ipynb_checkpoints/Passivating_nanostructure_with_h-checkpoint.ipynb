{
 "cells": [
  {
   "cell_type": "markdown",
   "id": "9d2c602a-fa36-48b7-8efc-3639a10a5f50",
   "metadata": {},
   "source": [
    "# Passivating Nanostructure with H\n"
   ]
  },
  {
   "cell_type": "code",
   "execution_count": 11,
   "id": "33808d9e-f635-4517-8c00-4cc9786ebe48",
   "metadata": {},
   "outputs": [],
   "source": [
    "# Importing libraries\n",
    "import numpy as np\n",
    "from pymatgen.io.vasp.inputs import Poscar\n",
    "from pymatgen.core.structure import Structure\n",
    "from pymatgen.core.composition import Composition\n",
    "from ase.io import read\n",
    "from ase.visualize import view"
   ]
  },
  {
   "cell_type": "code",
   "execution_count": 12,
   "id": "2be3d070-e4f2-4cdc-9fbe-a4bb618b9fc0",
   "metadata": {},
   "outputs": [],
   "source": [
    "#pwd"
   ]
  },
  {
   "cell_type": "code",
   "execution_count": 13,
   "id": "27086957-af92-4476-a7e0-1efeda9115d0",
   "metadata": {},
   "outputs": [],
   "source": [
    "# cd <correct directory containing the POSCAR file>"
   ]
  },
  {
   "cell_type": "code",
   "execution_count": 14,
   "id": "3f11be63-7508-4e17-816c-405210928763",
   "metadata": {},
   "outputs": [],
   "source": [
    "# Functions\n",
    "def get_nn_nos(nn_list):\n",
    "    nn_nos = []\n",
    "    for nn in nn_list:\n",
    "        nn_nos.append(len(nn))\n",
    "    return nn_nos\n",
    "\n",
    "def get_indices(no_list, nn_nos):\n",
    "    \"\"\"\n",
    "    This function returns indices of sites with specified number of nearest neighbour.\n",
    "    \n",
    "    no_list : a list containing the number of nearest neighbor to consider.\n",
    "    nn_nos : nearest neibour number list\n",
    "    \"\"\"\n",
    "    ind = []\n",
    "    for n in no_list:\n",
    "        for i in range(len(nn_nos)):\n",
    "            if n == nn_nos[i]:\n",
    "                ind.append(i)\n",
    "    return ind\n",
    "\n",
    "def center_of_mass(poscar):\n",
    "    \"\"\"\n",
    "    Returns the center of mass of a structure\n",
    "    \"\"\"\n",
    "    center = np.zeros(3)\n",
    "    total_weight = 0\n",
    "    for site in poscar.structure.sites:\n",
    "        wt = site.species.weight\n",
    "        center += site.coords * wt\n",
    "        total_weight += wt\n",
    "        \n",
    "    return center / total_weight\n",
    "\n",
    "def find_point_d_from_pos2(pos1, pos2, d=1):\n",
    "    \"\"\"\n",
    "    Gives the a for the quadratic equation at^2 + bt + c = 0\n",
    "    Equation of the line connecting pos1 (center of mass) and pos2 is\n",
    "    \n",
    "    x3 = (x2-x1) + x1\n",
    "    y3 = (y2-y1) + y1\n",
    "    z3 = (z2-z1) + z1\n",
    "    \n",
    "    We want to determine a points on the line with d distance from the second point.\n",
    "    \n",
    "    d is the distance\n",
    "    \"\"\"\n",
    "    # Calculate a\n",
    "    a = (pos2[0]-pos1[0])**2 + (pos2[1]-pos1[1])**2 + (pos2[2]-pos1[2])**2\n",
    "    t_in = 1 - d/np.sqrt(a)\n",
    "    t_out = 1 + d/np.sqrt(a)\n",
    "    \n",
    "    in_pos = [(pos2[0]-pos1[0])*t_in + pos1[0], (pos2[1]-pos1[1])*t_in + pos1[1], (pos2[2]-pos1[2])*t_in + pos1[2]]\n",
    "    out_pos = [(pos2[0]-pos1[0])*t_out + pos1[0], (pos2[1]-pos1[1])*t_out + pos1[1], (pos2[2]-pos1[2])*t_out + pos1[2]]\n",
    "    return [in_pos, out_pos]\n",
    "\n",
    "\n",
    "def add_pass_el(poscar, com, ind, d=1, pass_el=\"H\", filename=\"./POSCAR2\"):\n",
    "    pos1 = com\n",
    "    poscar2 = poscar.structure\n",
    "    for i in ind:\n",
    "        # print(i)\n",
    "        pos2 = poscar.structure.sites[i].coords\n",
    "        in_pos, out_pos = find_point_d_from_pos2(pos1, pos2,d=d)\n",
    "    # pos2, in_pos, out_pos\n",
    "        poscar2.append(species=Composition(pass_el), coords=out_pos, coords_are_cartesian=True)\n",
    "    \n",
    "    poscar2 = Poscar(poscar2)\n",
    "    poscar2.write_file(filename)\n",
    "    return poscar2\n",
    "\n",
    "def find_distance(pos1, pos2):\n",
    "    return np.sqrt((pos2[0]-pos1[0])**2 + (pos2[1]-pos1[1])**2 + (pos2[2]-pos1[2])**2)"
   ]
  },
  {
   "cell_type": "code",
   "execution_count": 15,
   "id": "751cf375-47c4-4195-a683-07177077ee3f",
   "metadata": {},
   "outputs": [
    {
     "name": "stdout",
     "output_type": "stream",
     "text": [
      "Minimum no of nearest neighbours :  1\n",
      "Maximum no of nearest neighbours :  6\n"
     ]
    }
   ],
   "source": [
    "# Inputs from the user\n",
    "radius = 3 # Radius around an atom for calculating the nearest neighbour\n",
    "no_nn_to_consider = [1,2,3] # Atoms with number of atoms to be considered as outer atoms\n",
    "pass_el = \"H\" # Passivating element\n",
    "d = 1 # Hydrogen to be added at a distance of 1 Angstrom from the outer atoms\n",
    "\n",
    "# Filenames\n",
    "filename1 = \"./POSCAR\" # To read the Original POSCAR of the nanodots\n",
    "filename2 = \"./POSCAR1\" # To write the POSCAR containing the outer atoms\n",
    "filename3 = \"./POSCAR2\" # To write the POSCAR containing nanodots passivated with hydrogen\n",
    "\n",
    "poscar = Poscar.from_file(filename1) # Reading the original POSCAR of the nanodots\n",
    "com = center_of_mass(poscar) # Get the center of mass\n",
    "nn_list = poscar.structure.get_all_neighbors(radius) # List of nearest neighbour of all the elements\n",
    "nn_nos = get_nn_nos(nn_list) # Calculating the number of nearest neighbour for each atoms\n",
    "\n",
    "print(\"Minimum no of nearest neighbours : \", min(nn_nos))\n",
    "print(\"Maximum no of nearest neighbours : \", max(nn_nos))\n",
    "\n",
    "ind = get_indices(no_nn_to_consider, nn_nos) # Get the indices of the outer atom\n",
    "\n",
    "# Creating a POSCAR with just the outer atoms\n",
    "lattice = poscar.structure.lattice\n",
    "species = [poscar.structure.sites[i].species for i in ind]\n",
    "coords = [poscar.structure.sites[i].coords for i in ind]\n",
    "\n",
    "poscar1 = Structure(lattice=lattice, species=species, coords=coords, coords_are_cartesian=True)\n",
    "poscar1 = Poscar(poscar1)\n",
    "poscar1.write_file(filename2) # POSCAR containing the outer atoms\n",
    "\n",
    "# Poscar with hydrogen added to the sides of the nanostructure\n",
    "poscar2 = add_pass_el(poscar, com, ind, d=d, pass_el=pass_el, filename=filename3)"
   ]
  },
  {
   "cell_type": "code",
   "execution_count": 16,
   "id": "e682dc94-69df-4983-a03d-a1e46267e571",
   "metadata": {},
   "outputs": [
    {
     "data": {
      "application/vnd.jupyter.widget-view+json": {
       "model_id": "e3425d76a9b24cc08792e1b88817ff19",
       "version_major": 2,
       "version_minor": 0
      },
      "text/plain": [
       "HBox(children=(NGLWidget(), VBox(children=(Dropdown(description='Show', options=('All', 'Te', 'Mn'), value='Al…"
      ]
     },
     "metadata": {},
     "output_type": "display_data"
    }
   ],
   "source": [
    "# Visualizing the Nanostructure\n",
    "struct = read(filename1)\n",
    "view(struct, viewer='ngl')"
   ]
  },
  {
   "cell_type": "code",
   "execution_count": 17,
   "id": "2826ad60-a05e-488b-a212-4880018ba864",
   "metadata": {},
   "outputs": [
    {
     "data": {
      "application/vnd.jupyter.widget-view+json": {
       "model_id": "a76cda3076ef4510b25ee7f509b78449",
       "version_major": 2,
       "version_minor": 0
      },
      "text/plain": [
       "HBox(children=(NGLWidget(), VBox(children=(Dropdown(description='Show', options=('All', 'Te', 'Mn'), value='Al…"
      ]
     },
     "metadata": {},
     "output_type": "display_data"
    }
   ],
   "source": [
    "# Visualizing the Outershell of nanostructure\n",
    "struct1 = read(filename2)\n",
    "view(struct1, viewer='ngl')"
   ]
  },
  {
   "cell_type": "code",
   "execution_count": 18,
   "id": "7793fc59-8c9c-4324-91bc-4991471b7e8c",
   "metadata": {},
   "outputs": [
    {
     "data": {
      "application/vnd.jupyter.widget-view+json": {
       "model_id": "b46f4213a77148898fd70ad01cdb9fc8",
       "version_major": 2,
       "version_minor": 0
      },
      "text/plain": [
       "HBox(children=(NGLWidget(), VBox(children=(Dropdown(description='Show', options=('All', 'H', 'Te', 'Mn'), valu…"
      ]
     },
     "metadata": {},
     "output_type": "display_data"
    }
   ],
   "source": [
    "# Visualizing the nanostructure with hydrogen passivation\n",
    "struct2 = read(filename3)\n",
    "view(struct2, viewer='ngl')"
   ]
  },
  {
   "cell_type": "code",
   "execution_count": null,
   "id": "6025369f-16d5-4547-994b-4972a42e800d",
   "metadata": {},
   "outputs": [],
   "source": []
  }
 ],
 "metadata": {
  "kernelspec": {
   "display_name": "Python [conda env:code_development]",
   "language": "python",
   "name": "conda-env-code_development-py"
  },
  "language_info": {
   "codemirror_mode": {
    "name": "ipython",
    "version": 3
   },
   "file_extension": ".py",
   "mimetype": "text/x-python",
   "name": "python",
   "nbconvert_exporter": "python",
   "pygments_lexer": "ipython3",
   "version": "3.9.15"
  }
 },
 "nbformat": 4,
 "nbformat_minor": 5
}
